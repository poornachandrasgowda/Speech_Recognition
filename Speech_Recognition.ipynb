{
 "cells": [
  {
   "cell_type": "code",
   "execution_count": 6,
   "id": "d3602f85-a12e-4d82-bbea-8236d1d4ffaa",
   "metadata": {},
   "outputs": [
    {
     "name": "stdout",
     "output_type": "stream",
     "text": [
      "Speak Now.......\n",
      "you said:   hi how are you\n"
     ]
    }
   ],
   "source": [
    "import speech_recognition as sr\n",
    "\n",
    "r=sr.Recognizer()\n",
    "\n",
    "with sr.Microphone() as m:\n",
    "    print(\"Speak Now.......\")\n",
    "    audio=r.listen(m)\n",
    "    t=r.recognize_google(audio)\n",
    "    print(\"you said:  \",t)"
   ]
  },
  {
   "cell_type": "code",
   "execution_count": null,
   "id": "0120401c-69ec-4bab-afcf-cb5599a7e7dc",
   "metadata": {},
   "outputs": [],
   "source": []
  }
 ],
 "metadata": {
  "kernelspec": {
   "display_name": "Python 3 (ipykernel)",
   "language": "python",
   "name": "python3"
  },
  "language_info": {
   "codemirror_mode": {
    "name": "ipython",
    "version": 3
   },
   "file_extension": ".py",
   "mimetype": "text/x-python",
   "name": "python",
   "nbconvert_exporter": "python",
   "pygments_lexer": "ipython3",
   "version": "3.11.7"
  }
 },
 "nbformat": 4,
 "nbformat_minor": 5
}
